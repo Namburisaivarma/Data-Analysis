{
 "cells": [
  {
   "cell_type": "code",
   "execution_count": 1,
   "id": "dec3dd62",
   "metadata": {},
   "outputs": [],
   "source": [
    "import pandas as pd\n",
    "import numpy as np\n",
    "import seaborn as sns\n",
    "import matplotlib.pyplot as plt"
   ]
  },
  {
   "cell_type": "code",
   "execution_count": 3,
   "id": "71bcda54",
   "metadata": {},
   "outputs": [],
   "source": [
    "troll= pd.read_csv(r'F:\\Data Analysis\\Updated Data\\tweets_updated.csv')"
   ]
  },
  {
   "cell_type": "code",
   "execution_count": 4,
   "id": "a55ffe06",
   "metadata": {},
   "outputs": [
    {
     "data": {
      "text/html": [
       "<div>\n",
       "<style scoped>\n",
       "    .dataframe tbody tr th:only-of-type {\n",
       "        vertical-align: middle;\n",
       "    }\n",
       "\n",
       "    .dataframe tbody tr th {\n",
       "        vertical-align: top;\n",
       "    }\n",
       "\n",
       "    .dataframe thead th {\n",
       "        text-align: right;\n",
       "    }\n",
       "</style>\n",
       "<table border=\"1\" class=\"dataframe\">\n",
       "  <thead>\n",
       "    <tr style=\"text-align: right;\">\n",
       "      <th></th>\n",
       "      <th>user_id</th>\n",
       "      <th>user_key</th>\n",
       "      <th>created_at</th>\n",
       "      <th>created_str</th>\n",
       "      <th>retweet_count</th>\n",
       "      <th>retweeted</th>\n",
       "      <th>favorite_count</th>\n",
       "      <th>text</th>\n",
       "      <th>tweet_id</th>\n",
       "      <th>source</th>\n",
       "      <th>hashtags</th>\n",
       "      <th>expanded_urls</th>\n",
       "      <th>posted</th>\n",
       "      <th>mentions</th>\n",
       "      <th>retweeted_status_id</th>\n",
       "      <th>in_reply_to_status_id</th>\n",
       "      <th>created_str_date</th>\n",
       "    </tr>\n",
       "  </thead>\n",
       "  <tbody>\n",
       "    <tr>\n",
       "      <th>0</th>\n",
       "      <td>1.868981e+09</td>\n",
       "      <td>ryanmaxwell_1</td>\n",
       "      <td>1.458672e+12</td>\n",
       "      <td>2016-03-22 18:31:42</td>\n",
       "      <td>NaN</td>\n",
       "      <td>NaN</td>\n",
       "      <td>NaN</td>\n",
       "      <td>#IslamKills Are you trying to say that there w...</td>\n",
       "      <td>7.123460e+17</td>\n",
       "      <td>NaN</td>\n",
       "      <td>[\"IslamKills\"]</td>\n",
       "      <td>[]</td>\n",
       "      <td>POSTED</td>\n",
       "      <td>[]</td>\n",
       "      <td>NaN</td>\n",
       "      <td>NaN</td>\n",
       "      <td>2016-03-22</td>\n",
       "    </tr>\n",
       "    <tr>\n",
       "      <th>1</th>\n",
       "      <td>2.571870e+09</td>\n",
       "      <td>detroitdailynew</td>\n",
       "      <td>1.476133e+12</td>\n",
       "      <td>2016-10-10 20:57:00</td>\n",
       "      <td>0.0</td>\n",
       "      <td>False</td>\n",
       "      <td>0.0</td>\n",
       "      <td>Clinton: Trump should’ve apologized more, atta...</td>\n",
       "      <td>7.855849e+17</td>\n",
       "      <td>&lt;a href=\"http://twitterfeed.com\" rel=\"nofollow...</td>\n",
       "      <td>[]</td>\n",
       "      <td>[\"http://detne.ws/2e172jF\"]</td>\n",
       "      <td>POSTED</td>\n",
       "      <td>[]</td>\n",
       "      <td>NaN</td>\n",
       "      <td>NaN</td>\n",
       "      <td>2016-10-10</td>\n",
       "    </tr>\n",
       "    <tr>\n",
       "      <th>2</th>\n",
       "      <td>1.710805e+09</td>\n",
       "      <td>cookncooks</td>\n",
       "      <td>1.487767e+12</td>\n",
       "      <td>2017-02-22 12:43:43</td>\n",
       "      <td>NaN</td>\n",
       "      <td>NaN</td>\n",
       "      <td>NaN</td>\n",
       "      <td>RT @ltapoll: Who was/is the best president of ...</td>\n",
       "      <td>8.343832e+17</td>\n",
       "      <td>NaN</td>\n",
       "      <td>[]</td>\n",
       "      <td>[]</td>\n",
       "      <td>POSTED</td>\n",
       "      <td>[]</td>\n",
       "      <td>NaN</td>\n",
       "      <td>NaN</td>\n",
       "      <td>2017-02-22</td>\n",
       "    </tr>\n",
       "    <tr>\n",
       "      <th>3</th>\n",
       "      <td>2.584153e+09</td>\n",
       "      <td>queenofthewo</td>\n",
       "      <td>1.482765e+12</td>\n",
       "      <td>2016-12-26 15:06:41</td>\n",
       "      <td>NaN</td>\n",
       "      <td>NaN</td>\n",
       "      <td>NaN</td>\n",
       "      <td>RT @jww372: I don't have to guess your religio...</td>\n",
       "      <td>8.134006e+17</td>\n",
       "      <td>NaN</td>\n",
       "      <td>[\"ChristmasAftermath\"]</td>\n",
       "      <td>[]</td>\n",
       "      <td>POSTED</td>\n",
       "      <td>[]</td>\n",
       "      <td>NaN</td>\n",
       "      <td>NaN</td>\n",
       "      <td>2016-12-26</td>\n",
       "    </tr>\n",
       "    <tr>\n",
       "      <th>4</th>\n",
       "      <td>1.768260e+09</td>\n",
       "      <td>mrclydepratt</td>\n",
       "      <td>1.501987e+12</td>\n",
       "      <td>2017-08-06 02:36:24</td>\n",
       "      <td>NaN</td>\n",
       "      <td>NaN</td>\n",
       "      <td>NaN</td>\n",
       "      <td>RT @Shareblue: Pence and his lawyers decided w...</td>\n",
       "      <td>8.940243e+17</td>\n",
       "      <td>NaN</td>\n",
       "      <td>[]</td>\n",
       "      <td>[]</td>\n",
       "      <td>POSTED</td>\n",
       "      <td>[]</td>\n",
       "      <td>NaN</td>\n",
       "      <td>NaN</td>\n",
       "      <td>2017-08-06</td>\n",
       "    </tr>\n",
       "  </tbody>\n",
       "</table>\n",
       "</div>"
      ],
      "text/plain": [
       "        user_id         user_key    created_at          created_str  \\\n",
       "0  1.868981e+09    ryanmaxwell_1  1.458672e+12  2016-03-22 18:31:42   \n",
       "1  2.571870e+09  detroitdailynew  1.476133e+12  2016-10-10 20:57:00   \n",
       "2  1.710805e+09       cookncooks  1.487767e+12  2017-02-22 12:43:43   \n",
       "3  2.584153e+09     queenofthewo  1.482765e+12  2016-12-26 15:06:41   \n",
       "4  1.768260e+09     mrclydepratt  1.501987e+12  2017-08-06 02:36:24   \n",
       "\n",
       "   retweet_count retweeted  favorite_count  \\\n",
       "0            NaN       NaN             NaN   \n",
       "1            0.0     False             0.0   \n",
       "2            NaN       NaN             NaN   \n",
       "3            NaN       NaN             NaN   \n",
       "4            NaN       NaN             NaN   \n",
       "\n",
       "                                                text      tweet_id  \\\n",
       "0  #IslamKills Are you trying to say that there w...  7.123460e+17   \n",
       "1  Clinton: Trump should’ve apologized more, atta...  7.855849e+17   \n",
       "2  RT @ltapoll: Who was/is the best president of ...  8.343832e+17   \n",
       "3  RT @jww372: I don't have to guess your religio...  8.134006e+17   \n",
       "4  RT @Shareblue: Pence and his lawyers decided w...  8.940243e+17   \n",
       "\n",
       "                                              source                hashtags  \\\n",
       "0                                                NaN          [\"IslamKills\"]   \n",
       "1  <a href=\"http://twitterfeed.com\" rel=\"nofollow...                      []   \n",
       "2                                                NaN                      []   \n",
       "3                                                NaN  [\"ChristmasAftermath\"]   \n",
       "4                                                NaN                      []   \n",
       "\n",
       "                 expanded_urls  posted mentions  retweeted_status_id  \\\n",
       "0                           []  POSTED       []                  NaN   \n",
       "1  [\"http://detne.ws/2e172jF\"]  POSTED       []                  NaN   \n",
       "2                           []  POSTED       []                  NaN   \n",
       "3                           []  POSTED       []                  NaN   \n",
       "4                           []  POSTED       []                  NaN   \n",
       "\n",
       "   in_reply_to_status_id created_str_date  \n",
       "0                    NaN       2016-03-22  \n",
       "1                    NaN       2016-10-10  \n",
       "2                    NaN       2017-02-22  \n",
       "3                    NaN       2016-12-26  \n",
       "4                    NaN       2017-08-06  "
      ]
     },
     "execution_count": 4,
     "metadata": {},
     "output_type": "execute_result"
    }
   ],
   "source": [
    "troll.head(5)"
   ]
  },
  {
   "cell_type": "markdown",
   "id": "a61443ae",
   "metadata": {},
   "source": [
    "## 1. Understand your text feature well."
   ]
  },
  {
   "cell_type": "code",
   "execution_count": 13,
   "id": "fa7259a1",
   "metadata": {},
   "outputs": [
    {
     "data": {
      "text/plain": [
       "0     #IslamKills Are you trying to say that there w...\n",
       "1     Clinton: Trump should’ve apologized more, atta...\n",
       "2     RT @ltapoll: Who was/is the best president of ...\n",
       "3     RT @jww372: I don't have to guess your religio...\n",
       "4     RT @Shareblue: Pence and his lawyers decided w...\n",
       "5                                @ModicaGiunta me, too!\n",
       "6     RT @MDBlanchfield: You’ll never guess who twee...\n",
       "7     RT @100PercFEDUP: New post: WATCH: DIAMOND AND...\n",
       "8     RT @AriaWilsonGOP: 3 Women Face Charges After ...\n",
       "9     One of the ways to remind that #BlackLivesMatt...\n",
       "10    RT @ElPenguinito: #myfarewellwordswouldbe I've...\n",
       "11    RT @America_1st_: CW: \"The thing that impresse...\n",
       "12    RT @AIIAmericanGirI: 🇺🇸\\r\\nObama to add 450 Ir...\n",
       "13    Dave Chappelle: \"Black Lives Matter\" is the wo...\n",
       "14    RT @RadioACR: Chuck Todd vs Kellyanne Conway.....\n",
       "15    #My2017BiggestHope to reach this level of pett...\n",
       "16    The war is here! \\nThis gentleman made more se...\n",
       "17    RT @HipHopDX: .@Migos Scores FIRST #1 Hot 100 ...\n",
       "18    RT @LibertyBritt: He's the brilliant guy who s...\n",
       "19    RT @K1erry: The Marco Rubio knockdown of Eliza...\n",
       "20    Obama on Trump winning: 'Anything's possible' ...\n",
       "21    RT @bgg2wl: Walmart, Michelle Obama and The Ha...\n",
       "22                         it’s impossible! #TexasJihad\n",
       "23    RT @LibsNoFun: Who will wave the flag? #DayWit...\n",
       "24    Bewaffnete attackieren Bus mit koptischen Chri...\n",
       "25    The bright example of our failing education ht...\n",
       "26    @sendavidperdue How are they gonna protect us ...\n",
       "27    FC Barcelonas youth academy! La Masia doin wor...\n",
       "28    When I remember it's #Friyay https://t.co/yjBT...\n",
       "29    RT @Ladydiann2: Remove these Anti Americans fr...\n",
       "30    RT @BreitbartNews: This week's \"Sweden inciden...\n",
       "31    RT @alisajoy331: Prayer sent Never stop fighti...\n",
       "32    RT @RossMoorhouse: #ItsRiskyTo\\r\\nIgnore the s...\n",
       "33    RT @RedState: The KKK Says A&amp;E Producers T...\n",
       "34    RT @hldb73: Bryan or Ryan Adams  #whenthestars...\n",
       "35    RT @WorldTruthTV: #mutual #respect https://t.c...\n",
       "36    tired of kids how to get rid  #SearchesGoogleI...\n",
       "37    RT @crookedwren: \"Praise be to the Lord, the G...\n",
       "38         RT @deepscreenshots: https://t.co/1IuHuiAIJB\n",
       "39    Kareem Abdul Jabber #OneLetterOffSports @midni...\n",
       "40    #God can be realized through all paths. All #r...\n",
       "41    RT @RawStory: ‘Star Wars’ Han Solo movie to be...\n",
       "42    RT @KStreetHipster: Hamner-Brown is already on...\n",
       "43    RT @TrumpSuperPAC: Obama's a Muslim &amp; this...\n",
       "44    RT @schotziejlk: .@greta Who is your #SuperBow...\n",
       "45    RT @LefLaneLivin: @trueblackpower As Black Peo...\n",
       "46    RT @Ban_asslam: This is the woman who squashed...\n",
       "47    https://t.co/D0ACs3iGvV hah, not a scooter at ...\n",
       "48    RT @JoyAnnReid: Tried to tell the @amjoyshow s...\n",
       "49    RT @bob_owens: Looks like an attempt to gauge ...\n",
       "Name: text, dtype: object"
      ]
     },
     "execution_count": 13,
     "metadata": {},
     "output_type": "execute_result"
    }
   ],
   "source": [
    "troll['text'].head(50)"
   ]
  },
  {
   "cell_type": "code",
   "execution_count": 6,
   "id": "b0809c1e",
   "metadata": {},
   "outputs": [
    {
     "data": {
      "text/plain": [
       "'#IslamKills Are you trying to say that there were no terrorist attacks in Europe before refugees were let in?'"
      ]
     },
     "execution_count": 6,
     "metadata": {},
     "output_type": "execute_result"
    }
   ],
   "source": [
    "troll['text'][0]"
   ]
  },
  {
   "cell_type": "code",
   "execution_count": 8,
   "id": "b2914444",
   "metadata": {},
   "outputs": [
    {
     "data": {
      "text/plain": [
       "21"
      ]
     },
     "execution_count": 8,
     "metadata": {},
     "output_type": "execute_result"
    }
   ],
   "source": [
    "troll['text'].isnull().sum()"
   ]
  },
  {
   "cell_type": "code",
   "execution_count": 10,
   "id": "48a17726",
   "metadata": {},
   "outputs": [],
   "source": [
    "troll.dropna(subset=['text'],inplace=True)"
   ]
  },
  {
   "cell_type": "code",
   "execution_count": 11,
   "id": "083ae0f4",
   "metadata": {},
   "outputs": [
    {
     "data": {
      "text/plain": [
       "0"
      ]
     },
     "execution_count": 11,
     "metadata": {},
     "output_type": "execute_result"
    }
   ],
   "source": [
    "troll['text'].isnull().sum()"
   ]
  },
  {
   "cell_type": "code",
   "execution_count": 12,
   "id": "8192558c",
   "metadata": {},
   "outputs": [
    {
     "data": {
      "text/plain": [
       "\"RT @ElPenguinito: #myfarewellwordswouldbe I've buried my fortune in the park under a giant...\""
      ]
     },
     "execution_count": 12,
     "metadata": {},
     "output_type": "execute_result"
    }
   ],
   "source": [
    "troll['text'][10]"
   ]
  },
  {
   "cell_type": "markdown",
   "id": "2b65917d",
   "metadata": {},
   "source": [
    "## 1. Remove the retweet mentions from data."
   ]
  },
  {
   "cell_type": "code",
   "execution_count": 14,
   "id": "97e1d581",
   "metadata": {},
   "outputs": [
    {
     "data": {
      "text/plain": [
       "0         False\n",
       "1         False\n",
       "2          True\n",
       "3          True\n",
       "4          True\n",
       "          ...  \n",
       "203477     True\n",
       "203478     True\n",
       "203479     True\n",
       "203480    False\n",
       "203481     True\n",
       "Name: text, Length: 203461, dtype: bool"
      ]
     },
     "execution_count": 14,
     "metadata": {},
     "output_type": "execute_result"
    }
   ],
   "source": [
    "troll['text'].str.contains('RT')"
   ]
  },
  {
   "cell_type": "code",
   "execution_count": 15,
   "id": "c11dd6a7",
   "metadata": {},
   "outputs": [
    {
     "data": {
      "text/plain": [
       "\"RT @ElPenguinito: #myfarewellwordswouldbe I've buried my fortune in the park under a giant...\""
      ]
     },
     "execution_count": 15,
     "metadata": {},
     "output_type": "execute_result"
    }
   ],
   "source": [
    "troll['text'][10]"
   ]
  },
  {
   "cell_type": "code",
   "execution_count": 16,
   "id": "84433ddf",
   "metadata": {},
   "outputs": [],
   "source": [
    "import re"
   ]
  },
  {
   "cell_type": "code",
   "execution_count": 26,
   "id": "aa686ce3",
   "metadata": {},
   "outputs": [],
   "source": [
    "text = re.sub('RT.*?:','',troll ['text'][4])"
   ]
  },
  {
   "cell_type": "code",
   "execution_count": 27,
   "id": "c1456ecb",
   "metadata": {},
   "outputs": [
    {
     "data": {
      "text/plain": [
       "' Pence and his lawyers decided which of his official emails the public could see\\r\\n\\r\\nhttps://t.co/HjhPguBK1Y by @alisonrose711'"
      ]
     },
     "execution_count": 27,
     "metadata": {},
     "output_type": "execute_result"
    }
   ],
   "source": [
    "text"
   ]
  },
  {
   "cell_type": "code",
   "execution_count": 28,
   "id": "4e941359",
   "metadata": {},
   "outputs": [],
   "source": [
    "obj = re.match('.*',text)"
   ]
  },
  {
   "cell_type": "code",
   "execution_count": 29,
   "id": "a1285c19",
   "metadata": {},
   "outputs": [
    {
     "data": {
      "text/plain": [
       "<re.Match object; span=(0, 81), match=' Pence and his lawyers decided which of his offic>"
      ]
     },
     "execution_count": 29,
     "metadata": {},
     "output_type": "execute_result"
    }
   ],
   "source": [
    "obj"
   ]
  },
  {
   "cell_type": "code",
   "execution_count": 30,
   "id": "5bda655d",
   "metadata": {},
   "outputs": [
    {
     "data": {
      "text/plain": [
       "' Pence and his lawyers decided which of his official emails the public could see\\r'"
      ]
     },
     "execution_count": 30,
     "metadata": {},
     "output_type": "execute_result"
    }
   ],
   "source": [
    "obj.group()"
   ]
  },
  {
   "cell_type": "code",
   "execution_count": 32,
   "id": "2361f981",
   "metadata": {},
   "outputs": [
    {
     "data": {
      "text/plain": [
       "'Pence and his lawyers decided which of his official emails the public could see'"
      ]
     },
     "execution_count": 32,
     "metadata": {},
     "output_type": "execute_result"
    }
   ],
   "source": [
    "obj.group().strip()"
   ]
  },
  {
   "cell_type": "code",
   "execution_count": 33,
   "id": "2a8f9969",
   "metadata": {},
   "outputs": [],
   "source": [
    "def remove_unncessary(tweet):\n",
    "    text = re.sub('RT.*?:','',tweet)\n",
    "    obj = re.match('.*',text)\n",
    "    return obj.group().strip()"
   ]
  },
  {
   "cell_type": "code",
   "execution_count": 34,
   "id": "1175567f",
   "metadata": {},
   "outputs": [
    {
     "data": {
      "text/plain": [
       "'Pence and his lawyers decided which of his official emails the public could see'"
      ]
     },
     "execution_count": 34,
     "metadata": {},
     "output_type": "execute_result"
    }
   ],
   "source": [
    "remove_unncessary(troll['text'][4])"
   ]
  },
  {
   "cell_type": "code",
   "execution_count": 35,
   "id": "f41f867d",
   "metadata": {},
   "outputs": [],
   "source": [
    "text_only = troll['text'].apply(remove_unncessary)"
   ]
  },
  {
   "cell_type": "code",
   "execution_count": 38,
   "id": "dc3b49db",
   "metadata": {},
   "outputs": [
    {
     "data": {
      "text/plain": [
       "0         #IslamKills Are you trying to say that there w...\n",
       "1         Clinton: Trump should’ve apologized more, atta...\n",
       "2         Who was/is the best president of the past 25 y...\n",
       "3         I don't have to guess your religion! #Christma...\n",
       "4         Pence and his lawyers decided which of his off...\n",
       "                                ...                        \n",
       "203477    In intel circles, the story goes FSB filmed Tr...\n",
       "203478    Tonganoxie police: Middle school girl sexually...\n",
       "203479    Getting the right #company logo: How #business...\n",
       "203480    The Latest: Obama affirms continuity of ties w...\n",
       "203481    U cant just Upload a CD online &amp; thats it....\n",
       "Name: text, Length: 203461, dtype: object"
      ]
     },
     "execution_count": 38,
     "metadata": {},
     "output_type": "execute_result"
    }
   ],
   "source": [
    "text_only"
   ]
  },
  {
   "cell_type": "code",
   "execution_count": 46,
   "id": "ab75d86c",
   "metadata": {},
   "outputs": [
    {
     "data": {
      "text/plain": [
       "1         Clinton: Trump should’ve apologized more, atta...\n",
       "6         You’ll never guess who tweeted something false...\n",
       "7         New post: WATCH: DIAMOND AND SILK Rip On John ...\n",
       "8         3 Women Face Charges After Being Caught Steali...\n",
       "13        Dave Chappelle: \"Black Lives Matter\" is the wo...\n",
       "                                ...                        \n",
       "203473    Theresa A. Dear's \"Let's Get to Work\" @WVON169...\n",
       "203474    This 22-year-old got out of an awkward convo w...\n",
       "203475    #tcot #news #variety New Facebook tool allows ...\n",
       "203479    Getting the right #company logo: How #business...\n",
       "203480    The Latest: Obama affirms continuity of ties w...\n",
       "Name: text, Length: 95394, dtype: object"
      ]
     },
     "execution_count": 46,
     "metadata": {},
     "output_type": "execute_result"
    }
   ],
   "source": [
    "text_only[text_only.str.contains('http')]"
   ]
  },
  {
   "cell_type": "code",
   "execution_count": 50,
   "id": "6a748715",
   "metadata": {},
   "outputs": [
    {
     "data": {
      "text/plain": [
       "Series([], Name: text, dtype: object)"
      ]
     },
     "execution_count": 50,
     "metadata": {},
     "output_type": "execute_result"
    }
   ],
   "source": [
    "text_only[text_only.str.contains('<a')]"
   ]
  },
  {
   "cell_type": "code",
   "execution_count": 51,
   "id": "b4acf501",
   "metadata": {},
   "outputs": [
    {
     "data": {
      "text/plain": [
       "'Clinton: Trump should’ve apologized more, attacked less https://t.co/eJampkoHFZ'"
      ]
     },
     "execution_count": 51,
     "metadata": {},
     "output_type": "execute_result"
    }
   ],
   "source": [
    "text_only[1]"
   ]
  },
  {
   "cell_type": "code",
   "execution_count": 58,
   "id": "75f9f380",
   "metadata": {},
   "outputs": [
    {
     "data": {
      "text/plain": [
       "'Clinton: Trump should’ve apologized more, attacked less '"
      ]
     },
     "execution_count": 58,
     "metadata": {},
     "output_type": "execute_result"
    }
   ],
   "source": [
    "re.sub('http.?:.*','',text_only[1])"
   ]
  },
  {
   "cell_type": "code",
   "execution_count": 62,
   "id": "2fe4e46d",
   "metadata": {},
   "outputs": [],
   "source": [
    "def remove_links(tweet):\n",
    "    return re.sub('http.?:.*','',tweet)"
   ]
  },
  {
   "cell_type": "code",
   "execution_count": 64,
   "id": "90577090",
   "metadata": {},
   "outputs": [],
   "source": [
    "no_links = text_only.apply(remove_links)"
   ]
  },
  {
   "cell_type": "code",
   "execution_count": 67,
   "id": "fbcd230f",
   "metadata": {},
   "outputs": [
    {
     "data": {
      "text/plain": [
       "0         #IslamKills Are you trying to say that there w...\n",
       "1         Clinton: Trump should’ve apologized more, atta...\n",
       "2         Who was/is the best president of the past 25 y...\n",
       "3         I don't have to guess your religion! #Christma...\n",
       "4         Pence and his lawyers decided which of his off...\n",
       "                                ...                        \n",
       "203477    In intel circles, the story goes FSB filmed Tr...\n",
       "203478    Tonganoxie police: Middle school girl sexually...\n",
       "203479    Getting the right #company logo: How #business...\n",
       "203480    The Latest: Obama affirms continuity of ties w...\n",
       "203481    U cant just Upload a CD online &amp; thats it....\n",
       "Name: text, Length: 203461, dtype: object"
      ]
     },
     "execution_count": 67,
     "metadata": {},
     "output_type": "execute_result"
    }
   ],
   "source": [
    "no_links"
   ]
  },
  {
   "cell_type": "code",
   "execution_count": 70,
   "id": "2dad562d",
   "metadata": {},
   "outputs": [
    {
     "data": {
      "text/plain": [
       "91        Yes. Otherwise what they say with regards to #...\n",
       "94        Hey @HillaryClinton this message is for you. P...\n",
       "191       Listen idiot, I'm an opinion writer. Opinions ...\n",
       "639       DNC leaked emails show Hillary Camp's plans to...\n",
       "656       Comey should be impeached or forced to resign....\n",
       "                                ...                        \n",
       "203255    This sleaze from Obama is right up his alley. ...\n",
       "203267    Woah. Biggest news of all tonight = Bank of Ja...\n",
       "203318    #Hillary #RICO #Pedophilia #NYPD case can bypa...\n",
       "203363    Obama’s pattern of malfeasance is clear. He is...\n",
       "203376    Regime which beheads 47 people in one day rema...\n",
       "Name: text, Length: 1839, dtype: object"
      ]
     },
     "execution_count": 70,
     "metadata": {},
     "output_type": "execute_result"
    }
   ],
   "source": [
    "no_links[no_links.str.contains('http')]"
   ]
  },
  {
   "cell_type": "code",
   "execution_count": 74,
   "id": "3d927932",
   "metadata": {},
   "outputs": [
    {
     "data": {
      "text/plain": [
       "'Hey @HillaryClinton this message is for you. Pack it up &amp; go home Hillary,America is done with you. TRUMP is our man http…'"
      ]
     },
     "execution_count": 74,
     "metadata": {},
     "output_type": "execute_result"
    }
   ],
   "source": [
    "no_links[94]"
   ]
  },
  {
   "cell_type": "code",
   "execution_count": null,
   "id": "ec434093",
   "metadata": {},
   "outputs": [],
   "source": []
  }
 ],
 "metadata": {
  "kernelspec": {
   "display_name": "Python 3",
   "language": "python",
   "name": "python3"
  },
  "language_info": {
   "codemirror_mode": {
    "name": "ipython",
    "version": 3
   },
   "file_extension": ".py",
   "mimetype": "text/x-python",
   "name": "python",
   "nbconvert_exporter": "python",
   "pygments_lexer": "ipython3",
   "version": "3.8.8"
  }
 },
 "nbformat": 4,
 "nbformat_minor": 5
}
